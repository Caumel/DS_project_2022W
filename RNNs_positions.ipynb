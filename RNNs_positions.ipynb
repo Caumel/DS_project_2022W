{
 "cells": [
  {
   "attachments": {},
   "cell_type": "markdown",
   "metadata": {},
   "source": [
    "RNN podemos usar, pero is complex to train with longer sequences and can suffer from the problem of vanishing gradients\n",
    "\n",
    "Hay otra variaciones como LSTM and GRU que no tienen este problema."
   ]
  },
  {
   "cell_type": "code",
   "execution_count": 16,
   "metadata": {},
   "outputs": [],
   "source": [
    "import pandas as pd\n",
    "import scipy.io\n",
    "import os\n",
    "import mne\n",
    "import numpy as np\n",
    "from tqdm import tqdm\n",
    "import matplotlib.pyplot as plt\n",
    "import numpy as np\n",
    "import pandas as pd\n",
    "import tensorflow as tf\n",
    "import keras\n",
    "from datetime import datetime\n",
    "from matplotlib import pyplot\n",
    "\n",
    "from sklearn.preprocessing import LabelEncoder, MinMaxScaler\n",
    "from sklearn.metrics import accuracy_score, precision_score, recall_score\n",
    "from sklearn.model_selection import train_test_split\n",
    "from tensorflow.keras import layers, losses\n",
    "from tensorflow.keras.datasets import fashion_mnist\n",
    "from tensorflow.keras.models import Model, Sequential\n",
    "from tensorflow.keras.layers import LSTM, Dense, Dropout, Masking, Embedding\n",
    "from keras.callbacks import EarlyStopping, ModelCheckpoint, CSVLogger\n",
    "\n",
    "tf.random.set_seed(7)"
   ]
  },
  {
   "cell_type": "markdown",
   "metadata": {},
   "source": [
    "## Data"
   ]
  },
  {
   "cell_type": "markdown",
   "metadata": {},
   "source": [
    "### Split files per wildboard and compute the areas points"
   ]
  },
  {
   "cell_type": "code",
   "execution_count": 3,
   "metadata": {},
   "outputs": [],
   "source": [
    "# USE fiwi for train. becuase other in the positions we dont have too much data"
   ]
  },
  {
   "cell_type": "code",
   "execution_count": 4,
   "metadata": {},
   "outputs": [],
   "source": [
    "path_files_fiwi = \"../Join/telemetriedaten/positions_weather_fiwi/\"\n",
    "# path_files_other = \"../Join/telemetriedaten/positions_weather_other/\"\n",
    "\n",
    "path_place_fiwi = \"../Join/telemetriedaten/TelemetrieFiwigatter/\"\n",
    "# path_place_other = \"../Join/telemetriedaten/TelemetrieJagdgatter/\"\n",
    "\n",
    "save_file_path = \"../Join/telemetriedaten/position_per_wild_fiwi/\""
   ]
  },
  {
   "cell_type": "code",
   "execution_count": null,
   "metadata": {},
   "outputs": [],
   "source": [
    "list_files = os.listdir(path_files_fiwi)\n",
    "wild_boards_fiwi = set()\n",
    "for file in list_files:\n",
    "    df = pd.read_csv(path_files_fiwi + file)\n",
    "    wild_boards_fiwi.update(list(df[\"ID\"].unique()))\n",
    "\n",
    "# list_files = os.listdir(path_files_other)\n",
    "# wild_boards_other = set()\n",
    "# for file in list_files:\n",
    "#     df = pd.read_csv(path_files_other + file)\n",
    "#     wild_boards_other.update(list(df[\"ID\"].unique()))"
   ]
  },
  {
   "cell_type": "code",
   "execution_count": 5,
   "metadata": {},
   "outputs": [],
   "source": [
    "wild_boards_fiwi = {\n",
    "    'VG.2013.01', 'IS.2011.13', 'FG.2013.16', 'FG.2016.16', 'FG.2013.32', 'FG.2017.12', 'LA.2011.01', 'IS.2011.27',\n",
    "    'IS.2011.05', 'VG.2013.10', 'IS.2011.20', 'FG.2013.29', 'FG.2016.14', 'FG.2017.11', 'IS.2011.29', 'FG.2016.13', 'IS.2011.10', \n",
    "    'IS.2011.37', 'FG.2016.15', 'FG.2016.17', 'FG.2013.09', 'LA.2011.03', 'DE.2011.19', 'IS.2011.21', 'IS.2011.39', 'FG.2017.09', \n",
    "    'DE.2011.27', 'IS.2011.32', 'DE.2011.23', 'VG.2013.09', 'FG.2017.18', 'IS.2011.12', 'IS.2011.26', 'IS.2011.25', 'IS.2011.02', \n",
    "    'IS.2011.23', 'FG.2016.12', 'FG.2016.03', 'DE.2011.21', 'IS.2011.04', 'IS.2011.11', 'DE.2011.18', 'FG.2016.05', 'FG.2016.07', \n",
    "    'FG.2017.16', 'FG.2016.18', 'FG.2017.13', 'IS.2011.22', 'FG.2013.01', 'FG.2013.06', 'VG.2013.02', 'IS.2011.36', 'FG.2017.14', \n",
    "    'DE.2011.20', 'FG.2017.17', 'IS.2011.15', 'IS.2011.34', 'DE.2011.14', 'VG.2013.08', 'IS.2011.14', 'DE.2011.25', 'IS.2011.01', \n",
    "    'IS.2011.38', 'FG.2013.34', 'FG.2013.25', 'IS.2011.33', 'VG.2013.11'}"
   ]
  },
  {
   "cell_type": "code",
   "execution_count": 7,
   "metadata": {},
   "outputs": [],
   "source": [
    "for wild in wild_boards_fiwi:\n",
    "    if not os.path.exists(os.path.join(save_file_path,wild)):\n",
    "        os.mkdir(os.path.join(save_file_path,wild))"
   ]
  },
  {
   "cell_type": "code",
   "execution_count": 8,
   "metadata": {},
   "outputs": [
    {
     "name": "stderr",
     "output_type": "stream",
     "text": [
      "/tmp/ipykernel_229/2223551429.py:3: DtypeWarning: Columns (11) have mixed types. Specify dtype option on import or set low_memory=False.\n",
      "  df = pd.read_csv(path_files_fiwi + file)\n",
      "/tmp/ipykernel_229/2223551429.py:3: DtypeWarning: Columns (11) have mixed types. Specify dtype option on import or set low_memory=False.\n",
      "  df = pd.read_csv(path_files_fiwi + file)\n",
      "/tmp/ipykernel_229/2223551429.py:3: DtypeWarning: Columns (11) have mixed types. Specify dtype option on import or set low_memory=False.\n",
      "  df = pd.read_csv(path_files_fiwi + file)\n",
      "/tmp/ipykernel_229/2223551429.py:3: DtypeWarning: Columns (11) have mixed types. Specify dtype option on import or set low_memory=False.\n",
      "  df = pd.read_csv(path_files_fiwi + file)\n",
      "/tmp/ipykernel_229/2223551429.py:3: DtypeWarning: Columns (11) have mixed types. Specify dtype option on import or set low_memory=False.\n",
      "  df = pd.read_csv(path_files_fiwi + file)\n",
      "/tmp/ipykernel_229/2223551429.py:3: DtypeWarning: Columns (11) have mixed types. Specify dtype option on import or set low_memory=False.\n",
      "  df = pd.read_csv(path_files_fiwi + file)\n",
      "/tmp/ipykernel_229/2223551429.py:3: DtypeWarning: Columns (11) have mixed types. Specify dtype option on import or set low_memory=False.\n",
      "  df = pd.read_csv(path_files_fiwi + file)\n",
      "/tmp/ipykernel_229/2223551429.py:3: DtypeWarning: Columns (11) have mixed types. Specify dtype option on import or set low_memory=False.\n",
      "  df = pd.read_csv(path_files_fiwi + file)\n",
      "/tmp/ipykernel_229/2223551429.py:3: DtypeWarning: Columns (11) have mixed types. Specify dtype option on import or set low_memory=False.\n",
      "  df = pd.read_csv(path_files_fiwi + file)\n",
      "/tmp/ipykernel_229/2223551429.py:3: DtypeWarning: Columns (11) have mixed types. Specify dtype option on import or set low_memory=False.\n",
      "  df = pd.read_csv(path_files_fiwi + file)\n",
      "/tmp/ipykernel_229/2223551429.py:3: DtypeWarning: Columns (11) have mixed types. Specify dtype option on import or set low_memory=False.\n",
      "  df = pd.read_csv(path_files_fiwi + file)\n",
      "/tmp/ipykernel_229/2223551429.py:3: DtypeWarning: Columns (11) have mixed types. Specify dtype option on import or set low_memory=False.\n",
      "  df = pd.read_csv(path_files_fiwi + file)\n",
      "/tmp/ipykernel_229/2223551429.py:3: DtypeWarning: Columns (11) have mixed types. Specify dtype option on import or set low_memory=False.\n",
      "  df = pd.read_csv(path_files_fiwi + file)\n",
      "/tmp/ipykernel_229/2223551429.py:3: DtypeWarning: Columns (11) have mixed types. Specify dtype option on import or set low_memory=False.\n",
      "  df = pd.read_csv(path_files_fiwi + file)\n",
      "/tmp/ipykernel_229/2223551429.py:3: DtypeWarning: Columns (11) have mixed types. Specify dtype option on import or set low_memory=False.\n",
      "  df = pd.read_csv(path_files_fiwi + file)\n",
      "/tmp/ipykernel_229/2223551429.py:3: DtypeWarning: Columns (11) have mixed types. Specify dtype option on import or set low_memory=False.\n",
      "  df = pd.read_csv(path_files_fiwi + file)\n",
      "/tmp/ipykernel_229/2223551429.py:3: DtypeWarning: Columns (11) have mixed types. Specify dtype option on import or set low_memory=False.\n",
      "  df = pd.read_csv(path_files_fiwi + file)\n",
      "/tmp/ipykernel_229/2223551429.py:3: DtypeWarning: Columns (11) have mixed types. Specify dtype option on import or set low_memory=False.\n",
      "  df = pd.read_csv(path_files_fiwi + file)\n",
      "/tmp/ipykernel_229/2223551429.py:3: DtypeWarning: Columns (11) have mixed types. Specify dtype option on import or set low_memory=False.\n",
      "  df = pd.read_csv(path_files_fiwi + file)\n",
      "/tmp/ipykernel_229/2223551429.py:3: DtypeWarning: Columns (11) have mixed types. Specify dtype option on import or set low_memory=False.\n",
      "  df = pd.read_csv(path_files_fiwi + file)\n",
      "/tmp/ipykernel_229/2223551429.py:3: DtypeWarning: Columns (11) have mixed types. Specify dtype option on import or set low_memory=False.\n",
      "  df = pd.read_csv(path_files_fiwi + file)\n",
      "/tmp/ipykernel_229/2223551429.py:3: DtypeWarning: Columns (11) have mixed types. Specify dtype option on import or set low_memory=False.\n",
      "  df = pd.read_csv(path_files_fiwi + file)\n"
     ]
    }
   ],
   "source": [
    "list_files = os.listdir(path_files_fiwi)\n",
    "for file in list_files:\n",
    "    df = pd.read_csv(path_files_fiwi + file)\n",
    "    for wild in wild_boards_fiwi:\n",
    "        df_to_save = df[df[\"ID\"]==wild]\n",
    "        df_to_save.to_csv(os.path.join(save_file_path,wild,file))"
   ]
  },
  {
   "cell_type": "code",
   "execution_count": 5,
   "metadata": {},
   "outputs": [],
   "source": [
    "# Create file of areas\n",
    "\n",
    "file_areas = \"../Join/telemetriedaten/TelemetrieFiwigatter/TelemetrieFiwigatter_Tel.Fiwi.csv\"\n",
    "\n",
    "df = pd.read_csv(file_areas)\n",
    "df[\"start\"] = pd.to_datetime(df[\"start\"], infer_datetime_format=True)   \n",
    "df[\"end\"] = pd.to_datetime(df[\"end\"], infer_datetime_format=True)   \n",
    "\n",
    "# , \"ID\" \"location\",\"start\",\"end\",\"duration\"\n",
    "# 0,\"DE.2011.23\",\"Fiwi\",2017-02-01 15:55:08,2017-02-01 15:58:13,3.08333333333333\n",
    "\n",
    "df_2016 = df[(df[\"start\"] > datetime.strptime(\"2016-01-01\", '%Y-%m-%d')) & (df[\"start\"] < datetime.strptime(\"2016-12-31\", '%Y-%m-%d'))]\n",
    "df_2017 = df[(df[\"start\"] > datetime.strptime(\"2017-01-01\", '%Y-%m-%d')) & (df[\"start\"] < datetime.strptime(\"2017-12-31\", '%Y-%m-%d'))]\n",
    "df_2018 = df[(df[\"start\"] > datetime.strptime(\"2018-01-01\", '%Y-%m-%d')) & (df[\"start\"] < datetime.strptime(\"2018-12-31\", '%Y-%m-%d'))]\n",
    "df_2019 = df[(df[\"start\"] > datetime.strptime(\"2019-01-01\", '%Y-%m-%d')) & (df[\"start\"] < datetime.strptime(\"2019-12-31\", '%Y-%m-%d'))]"
   ]
  },
  {
   "cell_type": "code",
   "execution_count": null,
   "metadata": {},
   "outputs": [],
   "source": [
    "# Unnamed: 0               0.0.5196\n",
    "# ID                     DE.2011.14\n",
    "# location                     Fiwi\n",
    "# start         2017-12-20 13:42:06\n",
    "# end           2017-12-20 13:42:06\n",
    "# duration                      0.0\n",
    "# Name: 78109, dtype: object\n",
    "\n",
    "df_final = pd.DataFrame(columns=[\"ID\",\"Date\",\"x-value\",\"y-value\",\"location\"])\n",
    "\n",
    "# for index_data,df in [df_2016,df_2017,df_2018,df_2019]:\n",
    "for index, row in df.iloc[78100:,:].iterrows():\n",
    "    id = row[\"ID\"]\n",
    "    init = row[\"start\"]\n",
    "    end = row[\"end\"]\n",
    "    location = row[\"location\"]\n",
    "    list_dayofcount = [value.strftime(\"%Y-%m-%d\") for value in pd.date_range(start=init,end=end).to_list()]\n",
    "    for day in list_dayofcount:\n",
    "        try:\n",
    "            df_day = pd.read_csv(os.path.join(\"../Join/telemetriedaten/position_per_wild_fiwi/\" + id + \"/\",day + \"_fiwi.csv\"))\n",
    "            df_day[\"Date\"] = pd.to_datetime(df_day[\"Date\"], infer_datetime_format=True)   \n",
    "            df_to_save = df_day[(df_day[\"Date\"] > init) & (df_day[\"Date\"] < end)][[\"ID\",\"Date\",\"x-value\", \"y-value\"]]\n",
    "            df_to_save['location'] = location\n",
    "            df_final = pd.concat([df_final,df_to_save.iloc[:,:]])\n",
    "        except Exception as e:\n",
    "            pass\n",
    "df_final.to_csv(f\"../Join/telemetriedaten/areas.csv\")\n",
    "    # df_final.to_csv(f\"../Join/telemetriedaten/areas_{index_data+16}.csv\")"
   ]
  },
  {
   "cell_type": "code",
   "execution_count": 39,
   "metadata": {},
   "outputs": [],
   "source": [
    "df_final.to_csv(\"../Join/telemetriedaten/areas.csv\")"
   ]
  },
  {
   "cell_type": "markdown",
   "metadata": {},
   "source": [
    "### Fechas juntas"
   ]
  },
  {
   "cell_type": "code",
   "execution_count": null,
   "metadata": {},
   "outputs": [],
   "source": [
    "# Wild board DE.2011.14\n",
    "df = pd.DataFrame()\n",
    "for file in os.listdir(\"../Join/telemetriedaten/position_per_wild_fiwi/DE.2011.14/\"):\n",
    "    print(file)\n",
    "    df_day = pd.read_csv(\"../Join/telemetriedaten/position_per_wild_fiwi/DE.2011.14/\" + file)\n",
    "    df_day = df_day[['Date', 'tagid', 'MACadresse', 'x-value', 'y-value', 'ID', 'TempMain', \n",
    "                      'HumMain', 'Wind','WindDir', 'Rain', 'Solar', 'TempBB', 'TempForest', 'HumForest',\n",
    "                      'BaroPressure', '°C_FG', 'hum_FG', 'dew_p_FG', '°C_VG', 'hum_VG', 'dew_p_VG', 'SuhlenVG', 'SuhlenFG']]\n",
    "    df = pd.concat([df,df_day.iloc[:,:]])\n",
    "df.to_csv(\"../Join/telemetriedaten/position_per_wild_fiwi/DE.2011.14/DE.2011.14.csv\")"
   ]
  },
  {
   "attachments": {},
   "cell_type": "markdown",
   "metadata": {},
   "source": [
    "### Prepare files"
   ]
  },
  {
   "cell_type": "code",
   "execution_count": null,
   "metadata": {},
   "outputs": [],
   "source": []
  },
  {
   "attachments": {},
   "cell_type": "markdown",
   "metadata": {},
   "source": [
    "## Data preparation"
   ]
  },
  {
   "cell_type": "code",
   "execution_count": 3,
   "metadata": {},
   "outputs": [
    {
     "name": "stderr",
     "output_type": "stream",
     "text": [
      "/tmp/ipykernel_17892/693688132.py:3: DtypeWarning: Columns (10) have mixed types. Specify dtype option on import or set low_memory=False.\n",
      "  df = pd.read_csv(path_file)\n"
     ]
    }
   ],
   "source": [
    "# Wild board DE.2011.14\n",
    "path_file = \"../Join/telemetriedaten/position_per_wild_fiwi/DE.2011.14/DE.2011.14.csv\"\n",
    "df = pd.read_csv(path_file)\n",
    "df = df.set_index('Date')\n",
    "df = df.drop(columns=[\"Unnamed: 0\",\"tagid\",\"MACadresse\",\"ID\"])\n",
    "ohe = pd.get_dummies(df.WindDir)\n",
    "df = df.drop('WindDir',axis = 1)\n",
    "# df = df.join(ohe)"
   ]
  },
  {
   "cell_type": "code",
   "execution_count": 4,
   "metadata": {},
   "outputs": [],
   "source": [
    "# LSTMs are sensitive to the scale of the input data\n",
    "\n",
    "# normalize the dataset\n",
    "scaler = MinMaxScaler(feature_range=(0,1))\n",
    "df[['TempMain', 'HumMain', 'Wind', 'Rain', 'Solar','TempBB', 'TempForest',\n",
    "    'HumForest', 'BaroPressure', '°C_FG', 'hum_FG', 'dew_p_FG', '°C_VG',\n",
    "    'hum_VG', 'dew_p_VG', 'SuhlenVG', 'SuhlenFG']] = scaler.fit_transform(df[['TempMain', 'HumMain', 'Wind', 'Rain', 'Solar',\n",
    "                                                                              'TempBB', 'TempForest', 'HumForest', 'BaroPressure', '°C_FG', 'hum_FG',\n",
    "                                                                              'dew_p_FG', '°C_VG', 'hum_VG', 'dew_p_VG', 'SuhlenVG', 'SuhlenFG']])\n",
    "values = df.values\n",
    "values = values.astype('float32')"
   ]
  },
  {
   "cell_type": "code",
   "execution_count": 9,
   "metadata": {},
   "outputs": [
    {
     "name": "stderr",
     "output_type": "stream",
     "text": [
      "/tmp/ipykernel_17892/981266421.py:2: SettingWithCopyWarning: \n",
      "A value is trying to be set on a copy of a slice from a DataFrame.\n",
      "Try using .loc[row_indexer,col_indexer] = value instead\n",
      "\n",
      "See the caveats in the documentation: https://pandas.pydata.org/pandas-docs/stable/user_guide/indexing.html#returning-a-view-versus-a-copy\n",
      "  df_temporal[[\"x-value\",\"y-value\"]] = df_temporal[[\"x-value\",\"y-value\"]].shift(-1)\n"
     ]
    }
   ],
   "source": [
    "df_temporal = df.copy()#.iloc[0:10000,:]\n",
    "df_temporal[[\"x-value\",\"y-value\"]] = df_temporal[[\"x-value\",\"y-value\"]].shift(-1)\n",
    "df_temporal = df_temporal.dropna(subset=[\"x-value\",\"y-value\"])"
   ]
  },
  {
   "cell_type": "code",
   "execution_count": 10,
   "metadata": {},
   "outputs": [],
   "source": [
    "# Split dataset \n",
    "\n",
    "values = df_temporal.values\n",
    "length = values.shape[0]\n",
    "\n",
    "train, validation, test = np.split(df_temporal, [int(.8 * len(df_temporal)), int(.9 * len(df_temporal))])\n",
    "\n",
    "\n",
    "X_train, y_train = train.drop(columns=[\"x-value\",\"y-value\"]).values,  train[[\"x-value\",\"y-value\"]].values\n",
    "X_validation, y_validation = validation.drop(columns=[\"x-value\",\"y-value\"]).values,  validation[[\"x-value\",\"y-value\"]].values\n",
    "X_test, y_test = test.drop(columns=[\"x-value\",\"y-value\"]).values,  test[[\"x-value\",\"y-value\"]].values"
   ]
  },
  {
   "cell_type": "code",
   "execution_count": 11,
   "metadata": {},
   "outputs": [],
   "source": [
    "X_train = X_train.reshape((X_train.shape[0], 1, X_train.shape[1]))\n",
    "X_validation = X_validation.reshape((X_validation.shape[0], 1, X_validation.shape[1]))\n",
    "X_test = X_test.reshape((X_test.shape[0], 1, X_test.shape[1]))"
   ]
  },
  {
   "cell_type": "code",
   "execution_count": 12,
   "metadata": {},
   "outputs": [
    {
     "name": "stdout",
     "output_type": "stream",
     "text": [
      "(7999, 1, 17) (7999, 2) (1000, 1, 17) (1000, 2) (1000, 1, 17) (1000, 2)\n"
     ]
    }
   ],
   "source": [
    "print(X_train.shape, y_train.shape, X_validation.shape, y_validation.shape, X_test.shape, y_test.shape)"
   ]
  },
  {
   "attachments": {},
   "cell_type": "markdown",
   "metadata": {},
   "source": [
    "## Model and miscelaneous"
   ]
  },
  {
   "cell_type": "code",
   "execution_count": 13,
   "metadata": {},
   "outputs": [
    {
     "name": "stderr",
     "output_type": "stream",
     "text": [
      "2023-01-16 00:17:08.468481: I tensorflow/compiler/xla/stream_executor/cuda/cuda_gpu_executor.cc:967] could not open file to read NUMA node: /sys/bus/pci/devices/0000:01:00.0/numa_node\n",
      "Your kernel may have been built without NUMA support.\n",
      "2023-01-16 00:17:08.468717: W tensorflow/compiler/xla/stream_executor/platform/default/dso_loader.cc:64] Could not load dynamic library 'libcudart.so.11.0'; dlerror: libcudart.so.11.0: cannot open shared object file: No such file or directory\n",
      "2023-01-16 00:17:08.468986: W tensorflow/compiler/xla/stream_executor/platform/default/dso_loader.cc:64] Could not load dynamic library 'libcublas.so.11'; dlerror: libcublas.so.11: cannot open shared object file: No such file or directory\n",
      "2023-01-16 00:17:08.469079: W tensorflow/compiler/xla/stream_executor/platform/default/dso_loader.cc:64] Could not load dynamic library 'libcublasLt.so.11'; dlerror: libcublasLt.so.11: cannot open shared object file: No such file or directory\n",
      "2023-01-16 00:17:08.469158: W tensorflow/compiler/xla/stream_executor/platform/default/dso_loader.cc:64] Could not load dynamic library 'libcufft.so.10'; dlerror: libcufft.so.10: cannot open shared object file: No such file or directory\n",
      "2023-01-16 00:17:08.469229: W tensorflow/compiler/xla/stream_executor/platform/default/dso_loader.cc:64] Could not load dynamic library 'libcurand.so.10'; dlerror: libcurand.so.10: cannot open shared object file: No such file or directory\n",
      "2023-01-16 00:17:08.469299: W tensorflow/compiler/xla/stream_executor/platform/default/dso_loader.cc:64] Could not load dynamic library 'libcusolver.so.11'; dlerror: libcusolver.so.11: cannot open shared object file: No such file or directory\n",
      "2023-01-16 00:17:08.469368: W tensorflow/compiler/xla/stream_executor/platform/default/dso_loader.cc:64] Could not load dynamic library 'libcusparse.so.11'; dlerror: libcusparse.so.11: cannot open shared object file: No such file or directory\n",
      "2023-01-16 00:17:08.469513: W tensorflow/compiler/xla/stream_executor/platform/default/dso_loader.cc:64] Could not load dynamic library 'libcudnn.so.8'; dlerror: libcudnn.so.8: cannot open shared object file: No such file or directory\n",
      "2023-01-16 00:17:08.469532: W tensorflow/core/common_runtime/gpu/gpu_device.cc:1934] Cannot dlopen some GPU libraries. Please make sure the missing libraries mentioned above are installed properly if you would like to use GPU. Follow the guide at https://www.tensorflow.org/install/gpu for how to download and setup the required libraries for your platform.\n",
      "Skipping registering GPU devices...\n",
      "2023-01-16 00:17:08.471272: I tensorflow/core/platform/cpu_feature_guard.cc:193] This TensorFlow binary is optimized with oneAPI Deep Neural Network Library (oneDNN) to use the following CPU instructions in performance-critical operations:  AVX2 FMA\n",
      "To enable them in other operations, rebuild TensorFlow with the appropriate compiler flags.\n"
     ]
    }
   ],
   "source": [
    "def create_LSTM_model(data, data_size):\n",
    "    model = Sequential()\n",
    "    # Masking layer for pre-trained embeddings\n",
    "    model.add(LSTM(units=data_size, input_shape=(data.shape[1], data.shape[2])))\n",
    "    # Fully connected layer\n",
    "    model.add(Dense(64, activation='relu'))\n",
    "    # Dropout for regularization\n",
    "    model.add(Dropout(0.5))\n",
    "    # Output layer\n",
    "    model.add(Dense(2, activation='softmax'))\n",
    "    return model\n",
    "\n",
    "model = create_LSTM_model(X_train,2048)\n",
    "\n",
    "model.compile(optimizer='adam', loss='binary_crossentropy', metrics=['accuracy'])\n",
    "\n",
    "# Compile the model\n",
    "# model.compile(optimizer='adam', loss='categorical_crossentropy', metrics=['accuracy'])"
   ]
  },
  {
   "cell_type": "markdown",
   "metadata": {},
   "source": [
    "## Train model"
   ]
  },
  {
   "cell_type": "code",
   "execution_count": 14,
   "metadata": {},
   "outputs": [],
   "source": [
    "# Create callbacks\n",
    "callbacks = [\n",
    "                EarlyStopping(monitor='val_loss', patience=5),\n",
    "                ModelCheckpoint('../models/model.h5', save_best_only=True, save_weights_only=False),\n",
    "                CSVLogger('training.log')\n",
    "            ]"
   ]
  },
  {
   "cell_type": "code",
   "execution_count": 15,
   "metadata": {},
   "outputs": [
    {
     "name": "stdout",
     "output_type": "stream",
     "text": [
      "Epoch 1/10\n",
      "4/4 [==============================] - 6s 1s/step - loss: nan - accuracy: 1.0000 - val_loss: nan - val_accuracy: 1.0000\n",
      "Epoch 2/10\n",
      "4/4 [==============================] - 3s 842ms/step - loss: nan - accuracy: 1.0000 - val_loss: nan - val_accuracy: 1.0000\n",
      "Epoch 3/10\n",
      "4/4 [==============================] - 3s 769ms/step - loss: nan - accuracy: 1.0000 - val_loss: nan - val_accuracy: 1.0000\n",
      "Epoch 4/10\n",
      "4/4 [==============================] - 3s 804ms/step - loss: nan - accuracy: 1.0000 - val_loss: nan - val_accuracy: 1.0000\n",
      "Epoch 5/10\n",
      "4/4 [==============================] - 3s 787ms/step - loss: nan - accuracy: 1.0000 - val_loss: nan - val_accuracy: 1.0000\n"
     ]
    }
   ],
   "source": [
    "history = model.fit(X_train,  y_train, \n",
    "                    batch_size=2048, epochs=10,\n",
    "                    callbacks=callbacks,\n",
    "                    validation_data=(X_validation, y_validation))"
   ]
  },
  {
   "cell_type": "markdown",
   "metadata": {},
   "source": [
    "## Results"
   ]
  },
  {
   "cell_type": "code",
   "execution_count": 17,
   "metadata": {},
   "outputs": [
    {
     "data": {
      "image/png": "[encoded data removed]",
      "text/plain": [
       "<Figure size 640x480 with 1 Axes>"
      ]
     },
     "metadata": {},
     "output_type": "display_data"
    }
   ],
   "source": [
    "# plot history\n",
    "pyplot.plot(history.history['loss'], label='train')\n",
    "pyplot.plot(history.history['val_loss'], label='test')\n",
    "pyplot.legend()\n",
    "pyplot.show()"
   ]
  },
  {
   "cell_type": "code",
   "execution_count": 18,
   "metadata": {},
   "outputs": [
    {
     "name": "stdout",
     "output_type": "stream",
     "text": [
      "32/32 [==============================] - 1s 9ms/step\n"
     ]
    },
    {
     "ename": "ValueError",
     "evalue": "operands could not be broadcast together with shapes (1000,18) (17,) (1000,18) ",
     "output_type": "error",
     "traceback": [
      "\u001b[0;31m---------------------------------------------------------------------------\u001b[0m",
      "\u001b[0;31mValueError\u001b[0m                                Traceback (most recent call last)",
      "\u001b[0;32m/tmp/ipykernel_17892/2903889815.py\u001b[0m in \u001b[0;36m<module>\u001b[0;34m\u001b[0m\n\u001b[1;32m      7\u001b[0m \u001b[0;31m# invert scaling for forecast\u001b[0m\u001b[0;34m\u001b[0m\u001b[0;34m\u001b[0m\u001b[0m\n\u001b[1;32m      8\u001b[0m \u001b[0minv_yhat\u001b[0m \u001b[0;34m=\u001b[0m \u001b[0mnp\u001b[0m\u001b[0;34m.\u001b[0m\u001b[0mconcatenate\u001b[0m\u001b[0;34m(\u001b[0m\u001b[0;34m(\u001b[0m\u001b[0myhat\u001b[0m\u001b[0;34m,\u001b[0m \u001b[0mtest_X\u001b[0m\u001b[0;34m[\u001b[0m\u001b[0;34m:\u001b[0m\u001b[0;34m,\u001b[0m \u001b[0;36m1\u001b[0m\u001b[0;34m:\u001b[0m\u001b[0;34m]\u001b[0m\u001b[0;34m)\u001b[0m\u001b[0;34m,\u001b[0m \u001b[0maxis\u001b[0m\u001b[0;34m=\u001b[0m\u001b[0;36m1\u001b[0m\u001b[0;34m)\u001b[0m\u001b[0;34m\u001b[0m\u001b[0;34m\u001b[0m\u001b[0m\n\u001b[0;32m----> 9\u001b[0;31m \u001b[0minv_yhat\u001b[0m \u001b[0;34m=\u001b[0m \u001b[0mscaler\u001b[0m\u001b[0;34m.\u001b[0m\u001b[0minverse_transform\u001b[0m\u001b[0;34m(\u001b[0m\u001b[0minv_yhat\u001b[0m\u001b[0;34m)\u001b[0m\u001b[0;34m\u001b[0m\u001b[0;34m\u001b[0m\u001b[0m\n\u001b[0m\u001b[1;32m     10\u001b[0m \u001b[0minv_yhat\u001b[0m \u001b[0;34m=\u001b[0m \u001b[0minv_yhat\u001b[0m\u001b[0;34m[\u001b[0m\u001b[0;34m:\u001b[0m\u001b[0;34m,\u001b[0m\u001b[0;36m0\u001b[0m\u001b[0;34m]\u001b[0m\u001b[0;34m\u001b[0m\u001b[0;34m\u001b[0m\u001b[0m\n\u001b[1;32m     11\u001b[0m \u001b[0;31m# invert scaling for actual\u001b[0m\u001b[0;34m\u001b[0m\u001b[0;34m\u001b[0m\u001b[0m\n",
      "\u001b[0;32m~/anaconda3/lib/python3.9/site-packages/sklearn/preprocessing/_data.py\u001b[0m in \u001b[0;36minverse_transform\u001b[0;34m(self, X)\u001b[0m\n\u001b[1;32m    527\u001b[0m         )\n\u001b[1;32m    528\u001b[0m \u001b[0;34m\u001b[0m\u001b[0m\n\u001b[0;32m--> 529\u001b[0;31m         \u001b[0mX\u001b[0m \u001b[0;34m-=\u001b[0m \u001b[0mself\u001b[0m\u001b[0;34m.\u001b[0m\u001b[0mmin_\u001b[0m\u001b[0;34m\u001b[0m\u001b[0;34m\u001b[0m\u001b[0m\n\u001b[0m\u001b[1;32m    530\u001b[0m         \u001b[0mX\u001b[0m \u001b[0;34m/=\u001b[0m \u001b[0mself\u001b[0m\u001b[0;34m.\u001b[0m\u001b[0mscale_\u001b[0m\u001b[0;34m\u001b[0m\u001b[0;34m\u001b[0m\u001b[0m\n\u001b[1;32m    531\u001b[0m         \u001b[0;32mreturn\u001b[0m \u001b[0mX\u001b[0m\u001b[0;34m\u001b[0m\u001b[0;34m\u001b[0m\u001b[0m\n",
      "\u001b[0;31mValueError\u001b[0m: operands could not be broadcast together with shapes (1000,18) (17,) (1000,18) "
     ]
    }
   ],
   "source": [
    "from sklearn.metrics import mean_squared_error\n",
    "import math\n",
    "\n",
    "# make a prediction\n",
    "yhat = model.predict(X_test)\n",
    "test_X = X_test.reshape((X_test.shape[0], X_test.shape[2]))\n",
    "# invert scaling for forecast\n",
    "inv_yhat = np.concatenate((yhat, test_X[:, 1:]), axis=1)\n",
    "inv_yhat = scaler.inverse_transform(inv_yhat)\n",
    "inv_yhat = inv_yhat[:,0]\n",
    "# invert scaling for actual\n",
    "test_y = y_test.reshape((len(y_test), 1))\n",
    "inv_y = np.concatenate((test_y, test_X[:, 1:]), axis=1)\n",
    "inv_y = scaler.inverse_transform(inv_y)\n",
    "inv_y = inv_y[:,0]\n",
    "# calculate RMSE\n",
    "rmse = math.sqrt(mean_squared_error(inv_y, inv_yhat))\n",
    "print('Test RMSE: %.3f' % rmse)"
   ]
  },
  {
   "cell_type": "code",
   "execution_count": null,
   "metadata": {},
   "outputs": [],
   "source": []
  }
 ],
 "metadata": {
  "kernelspec": {
   "display_name": "base",
   "language": "python",
   "name": "python3"
  },
  "language_info": {
   "codemirror_mode": {
    "name": "ipython",
    "version": 3
   },
   "file_extension": ".py",
   "mimetype": "text/x-python",
   "name": "python",
   "nbconvert_exporter": "python",
   "pygments_lexer": "ipython3",
   "version": "3.9.13 (main, Aug 25 2022, 23:26:10) \n[GCC 11.2.0]"
  },
  "orig_nbformat": 4,
  "vscode": {
   "interpreter": {
    "hash": "002eb5a802fb8e476512fc9f67734d3aea06c712464ddb2bc5f18fbbbc19b494"
   }
  }
 },
 "nbformat": 4,
 "nbformat_minor": 2
}
